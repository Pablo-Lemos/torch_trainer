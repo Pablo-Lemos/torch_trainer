{
 "cells": [
  {
   "cell_type": "markdown",
   "id": "0208598d",
   "metadata": {},
   "source": [
    "# Example\n",
    "\n",
    "Example notebook for torch_trainer module"
   ]
  },
  {
   "cell_type": "code",
   "execution_count": 1,
   "id": "491c6aa6",
   "metadata": {},
   "outputs": [],
   "source": [
    "# Imports\n",
    "import numpy as np\n",
    "import torch\n",
    "import torch_trainer as tt\n",
    "import matplotlib.pyplot as plt"
   ]
  },
  {
   "cell_type": "markdown",
   "id": "892b8da5",
   "metadata": {},
   "source": [
    "### Create a simple dataset\n",
    "\n",
    "torch_trainer can take data as numpy arrays or torch tensors"
   ]
  },
  {
   "cell_type": "code",
   "execution_count": 2,
   "id": "0797f6fc",
   "metadata": {},
   "outputs": [],
   "source": [
    "nPoints = 100\n",
    "x = np.random.uniform(-3, 3, nPoints)\n",
    "y = np.sin(x) + np.random.normal(0, 0.1, nPoints)\n",
    "\n",
    "# For plotting\n",
    "xx = np.arange(-3, 3, 0.01)"
   ]
  },
  {
   "cell_type": "code",
   "execution_count": 3,
   "id": "69fca7d2",
   "metadata": {},
   "outputs": [
    {
     "data": {
      "image/png": "[encoded data removed]",
      "text/plain": [
       "<Figure size 432x288 with 1 Axes>"
      ]
     },
     "metadata": {
      "needs_background": "light"
     },
     "output_type": "display_data"
    }
   ],
   "source": [
    "fig = plt.figure()\n",
    "plt.plot(x, y, '.', label = 'Data')\n",
    "plt.plot(xx, np.sin(xx), label = 'Truth')\n",
    "plt.xlabel('x')\n",
    "plt.ylabel('y')\n",
    "plt.show()"
   ]
  },
  {
   "cell_type": "markdown",
   "id": "fbaf2990",
   "metadata": {},
   "source": [
    "### Create a simple torch model"
   ]
  },
  {
   "cell_type": "code",
   "execution_count": 4,
   "id": "f7f9e5d7",
   "metadata": {},
   "outputs": [],
   "source": [
    "model = torch.nn.Sequential(\n",
    "    torch.nn.Linear(1, 64),\n",
    "    torch.nn.ReLU(),\n",
    "    torch.nn.Linear(64, 64),\n",
    "    torch.nn.ReLU(),\n",
    "    torch.nn.Linear(64, 1),\n",
    ")"
   ]
  },
  {
   "cell_type": "markdown",
   "id": "fda93e97",
   "metadata": {},
   "source": [
    "### Create trainer object"
   ]
  },
  {
   "cell_type": "code",
   "execution_count": 5,
   "id": "6cb32b59",
   "metadata": {},
   "outputs": [],
   "source": [
    "trainer = tt.Trainer(model, batch_size=8)"
   ]
  },
  {
   "cell_type": "markdown",
   "id": "03552433",
   "metadata": {},
   "source": [
    "### Add the data \n",
    "\n",
    "Using 20% for testing"
   ]
  },
  {
   "cell_type": "code",
   "execution_count": 6,
   "id": "9e4c964b",
   "metadata": {},
   "outputs": [],
   "source": [
    "trainer.add_data(x=x.reshape(-1, 1), y=y.reshape(-1, 1), split=0.2)"
   ]
  },
  {
   "cell_type": "markdown",
   "id": "03a820c7",
   "metadata": {},
   "source": [
    "### Train"
   ]
  },
  {
   "cell_type": "code",
   "execution_count": 7,
   "id": "8e914c13",
   "metadata": {},
   "outputs": [
    {
     "data": {
      "application/vnd.jupyter.widget-view+json": {
       "model_id": "229760fdd7ce466b95bc6e43812b134a",
       "version_major": 2,
       "version_minor": 0
      },
      "text/plain": [
       "Batch:   0%|          | 0/1000 [00:00<?, ?it/s]"
      ]
     },
     "metadata": {},
     "output_type": "display_data"
    },
    {
     "name": "stdout",
     "output_type": "stream",
     "text": [
      "Early stopping after 86 epochs.\n"
     ]
    }
   ],
   "source": [
    "trainer.train(patience=20)"
   ]
  },
  {
   "cell_type": "markdown",
   "id": "956f858d",
   "metadata": {},
   "source": [
    "### Check performance"
   ]
  },
  {
   "cell_type": "code",
   "execution_count": 8,
   "id": "7f36bb6e",
   "metadata": {},
   "outputs": [],
   "source": [
    "x_val = torch.rand(20)*6-3\n",
    "y_val = torch.sin(x_val)\n",
    "y_pred = model(x_val.reshape(-1, 1))"
   ]
  },
  {
   "cell_type": "code",
   "execution_count": 9,
   "id": "c190876c",
   "metadata": {},
   "outputs": [
    {
     "data": {
      "image/png": "[encoded data removed]",
      "text/plain": [
       "<Figure size 432x288 with 1 Axes>"
      ]
     },
     "metadata": {
      "needs_background": "light"
     },
     "output_type": "display_data"
    }
   ],
   "source": [
    "fig = plt.figure()\n",
    "plt.plot(y_val.detach().numpy(), y_pred.detach().numpy(), '.')\n",
    "plt.plot([-3, 3], [-3, 3], ls = '--', color = 'k')\n",
    "plt.xlabel('Truth')\n",
    "plt.ylabel('Prediction')\n",
    "plt.show()"
   ]
  },
  {
   "cell_type": "code",
   "execution_count": null,
   "id": "e55d7919",
   "metadata": {},
   "outputs": [],
   "source": []
  }
 ],
 "metadata": {
  "kernelspec": {
   "display_name": "Python [conda env:pytorch]",
   "language": "python",
   "name": "conda-env-pytorch-py"
  },
  "language_info": {
   "codemirror_mode": {
    "name": "ipython",
    "version": 3
   },
   "file_extension": ".py",
   "mimetype": "text/x-python",
   "name": "python",
   "nbconvert_exporter": "python",
   "pygments_lexer": "ipython3",
   "version": "3.9.7"
  }
 },
 "nbformat": 4,
 "nbformat_minor": 5
}
